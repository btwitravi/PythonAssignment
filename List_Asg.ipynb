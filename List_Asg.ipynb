{
 "cells": [
  {
   "cell_type": "markdown",
   "id": "bc4a0ed2-38c1-4ae5-bb6d-42d7a3a793e6",
   "metadata": {},
   "source": [
    "# Beginner Level"
   ]
  },
  {
   "cell_type": "markdown",
   "id": "fe01cede-b735-40da-9e81-bf22d7007b34",
   "metadata": {},
   "source": [
    "# Q1. Create a list of your 5 favorite fruits and print the list."
   ]
  },
  {
   "cell_type": "code",
   "execution_count": 2,
   "id": "b857c4ab-82d2-451c-87fb-3a0f4eb5bdd1",
   "metadata": {},
   "outputs": [
    {
     "name": "stdout",
     "output_type": "stream",
     "text": [
      "My Fruit is: ['Mango', 'Banana', 'Orange', 'Apple', 'Watermelon']\n"
     ]
    }
   ],
   "source": [
    "Fruit = [\"Mango\", \"Banana\", \"Orange\", \"Apple\",\"Watermelon\"]\n",
    "print(f\"My Fruit is: {Fruit}\")"
   ]
  },
  {
   "cell_type": "markdown",
   "id": "4d67b9b4-2e8f-4ff3-87f8-f0ca13ae60ab",
   "metadata": {},
   "source": [
    "# Q2. Print the first and last elements from the fruits list."
   ]
  },
  {
   "cell_type": "code",
   "execution_count": 4,
   "id": "ab166bd9-4120-4e3f-8509-c2526eb3ca0e",
   "metadata": {},
   "outputs": [
    {
     "name": "stdout",
     "output_type": "stream",
     "text": [
      "First element is  Mango\n",
      "Last element is Watermelon\n"
     ]
    }
   ],
   "source": [
    "print(f\"First element is  {Fruit[0]}\")\n",
    "print(f\"Last element is {Fruit[-1]}\")"
   ]
  },
  {
   "cell_type": "markdown",
   "id": "8c472188-d0b9-4b8d-976e-638b6834e48a",
   "metadata": {},
   "source": [
    "# Q3. Change the second fruit in the list to \"Pineapple\""
   ]
  },
  {
   "cell_type": "code",
   "execution_count": 5,
   "id": "594d1ed4-9e58-4c1e-b9ac-b01b5e3ea7d2",
   "metadata": {},
   "outputs": [
    {
     "name": "stdout",
     "output_type": "stream",
     "text": [
      "after modify : ['Mango', 'Pineapple', 'Orange', 'Apple', 'Watermelon']\n"
     ]
    }
   ],
   "source": [
    "Fruit[1] = \"Pineapple\"\n",
    "print(f\"after modify : {Fruit}\")"
   ]
  },
  {
   "cell_type": "markdown",
   "id": "e965ff6b-060c-4351-8d6c-eea332adf862",
   "metadata": {},
   "source": [
    "# Q4. Add \"Kiwi\" to the end of the list and \"Papaya\" at the beginning."
   ]
  },
  {
   "cell_type": "code",
   "execution_count": 6,
   "id": "d87dea0c-f409-433d-924d-80a30b412312",
   "metadata": {},
   "outputs": [
    {
     "name": "stdout",
     "output_type": "stream",
     "text": [
      "After Update: ['Papay', 'Mango', 'Pineapple', 'Orange', 'Apple', 'Watermelon', 'Kiwi']\n"
     ]
    }
   ],
   "source": [
    "Fruit.append(\"Kiwi\")\n",
    "Fruit.insert(0,\"Papay\")\n",
    "print(f\"After Update: {Fruit}\")"
   ]
  },
  {
   "cell_type": "markdown",
   "id": "b2035ba8-0878-4983-a105-dfeff39f0578",
   "metadata": {},
   "source": [
    "# Q5. Remove \"Banana\" from the list"
   ]
  },
  {
   "cell_type": "code",
   "execution_count": 10,
   "id": "ce731543-2f0e-4d09-9111-2482864a8937",
   "metadata": {},
   "outputs": [
    {
     "name": "stdout",
     "output_type": "stream",
     "text": [
      "After Remove ['Mango', 'Orange', 'Apple', 'Watermelon']\n"
     ]
    }
   ],
   "source": [
    "Fruit = [\"Mango\", \"Banana\", \"Orange\", \"Apple\",\"Watermelon\"]\n",
    "Fruit.remove(\"Banana\")\n",
    "print(f\"After Remove {Fruit}\")"
   ]
  },
  {
   "cell_type": "markdown",
   "id": "1c2c96fa-bf87-4f38-8134-23706a7cb5f5",
   "metadata": {},
   "source": [
    "# Q6. Print the first 3 fruits from the list using slicing"
   ]
  },
  {
   "cell_type": "code",
   "execution_count": 11,
   "id": "16a2b9c3-4191-442c-a1ca-f3fa888aa573",
   "metadata": {},
   "outputs": [
    {
     "data": {
      "text/plain": [
       "['Mango', 'Banana', 'Orange']"
      ]
     },
     "execution_count": 11,
     "metadata": {},
     "output_type": "execute_result"
    }
   ],
   "source": [
    "Fruit = [\"Mango\", \"Banana\", \"Orange\", \"Apple\",\"Watermelon\"]\n",
    "Fruit[:3]"
   ]
  },
  {
   "cell_type": "markdown",
   "id": "d24449c6-879e-4942-8756-78293aab9ebf",
   "metadata": {},
   "source": [
    "# Q7. Print each fruit in the list on a new line using a for loop."
   ]
  },
  {
   "cell_type": "code",
   "execution_count": 12,
   "id": "d468d046-d73e-4194-acf6-f0820eadf62a",
   "metadata": {},
   "outputs": [
    {
     "name": "stdout",
     "output_type": "stream",
     "text": [
      "Mango\n",
      "Banana\n",
      "Orange\n",
      "Apple\n",
      "Watermelon\n"
     ]
    }
   ],
   "source": [
    "for fruit in Fruit:\n",
    "    print(fruit)"
   ]
  },
  {
   "cell_type": "markdown",
   "id": "c47f7ff6-410b-48c2-a3a9-1df18f0ac664",
   "metadata": {},
   "source": [
    "# Q8. Sort the list in alphabetical order and then reverse it."
   ]
  },
  {
   "cell_type": "code",
   "execution_count": 14,
   "id": "d8da7bc5-4373-409c-921c-f26b9ab8f96a",
   "metadata": {},
   "outputs": [
    {
     "name": "stdout",
     "output_type": "stream",
     "text": [
      "Sort: ['Apple', 'Banana', 'Mango', 'Orange', 'Watermelon']\n",
      "Reverse: ['Watermelon', 'Orange', 'Mango', 'Banana', 'Apple']\n"
     ]
    }
   ],
   "source": [
    "Fruit = [\"Mango\", \"Banana\", \"Orange\", \"Apple\",\"Watermelon\"]\n",
    "Fruit.sort()\n",
    "print(f\"Sort: {Fruit}\")\n",
    "\n",
    "Fruit.reverse()\n",
    "print(f\"Reverse: {Fruit}\")"
   ]
  },
  {
   "cell_type": "markdown",
   "id": "47ff733f-5b5d-452e-8a52-bbd40cf4a398",
   "metadata": {},
   "source": [
    "# Q9. Find and print the number of fruits in the list"
   ]
  },
  {
   "cell_type": "code",
   "execution_count": 15,
   "id": "b893d659-bf31-4adb-952b-c9ab07cf5b7d",
   "metadata": {},
   "outputs": [
    {
     "name": "stdout",
     "output_type": "stream",
     "text": [
      "Total num of Fruits: 5\n"
     ]
    }
   ],
   "source": [
    "print(f\"Total num of Fruits: {len(Fruit)}\")"
   ]
  },
  {
   "cell_type": "markdown",
   "id": "c2a6ea63-4343-42ba-bcd5-94eac16b2dca",
   "metadata": {},
   "source": [
    "# Q10. Create a list of squares from 1 to 10 using list comprehension."
   ]
  },
  {
   "cell_type": "code",
   "execution_count": 17,
   "id": "4c563d90-27d1-4a78-81c2-12ab0f3293cc",
   "metadata": {},
   "outputs": [
    {
     "name": "stdout",
     "output_type": "stream",
     "text": [
      "Sqaure from 1 to 10: [1, 4, 9, 16, 25, 36, 49, 64, 81, 100]\n"
     ]
    }
   ],
   "source": [
    "Square = [ x**2 for x in range(1,11)]\n",
    "print(f\"Sqaure from 1 to 10: {Square}\")"
   ]
  },
  {
   "cell_type": "markdown",
   "id": "67f9e8b8-d71a-4be6-b590-73336259d243",
   "metadata": {},
   "source": [
    "# Q11. Count how many times \"Apple\" appears in the list."
   ]
  },
  {
   "cell_type": "code",
   "execution_count": 19,
   "id": "d41e0c59-7de3-4222-bb46-989e241684b8",
   "metadata": {},
   "outputs": [
    {
     "data": {
      "text/plain": [
       "3"
      ]
     },
     "execution_count": 19,
     "metadata": {},
     "output_type": "execute_result"
    }
   ],
   "source": [
    "fruits = [\"Apple\", \"Banana\", \"Apple\",\"Mango\",\"Apple\"]\n",
    "fruits.count(\"Apple\")"
   ]
  },
  {
   "cell_type": "markdown",
   "id": "6e427c2e-b7de-4946-bda0-203c24cf4080",
   "metadata": {},
   "source": [
    "# Q12. Find the index of \"Mango\" in the list."
   ]
  },
  {
   "cell_type": "code",
   "execution_count": 20,
   "id": "63132313-a1fe-4e53-bf3f-f83747fcfa07",
   "metadata": {},
   "outputs": [
    {
     "data": {
      "text/plain": [
       "3"
      ]
     },
     "execution_count": 20,
     "metadata": {},
     "output_type": "execute_result"
    }
   ],
   "source": [
    "fruits.index(\"Mango\")"
   ]
  },
  {
   "cell_type": "markdown",
   "id": "4767fa65-ee47-4dc4-a641-d23a4f58ae62",
   "metadata": {},
   "source": [
    "# Q13. Combine two lists: fruits1 = [\"Mango\", \"Banana\"] and fruits2 = [\"Pineapple\", \"Grapes\"]"
   ]
  },
  {
   "cell_type": "code",
   "execution_count": 21,
   "id": "df0165c4-1d93-4a01-9f5d-b906dd9bb60b",
   "metadata": {},
   "outputs": [
    {
     "name": "stdout",
     "output_type": "stream",
     "text": [
      "After combined list: ['Mango', 'Banana', 'Pineapple', 'Grapes']\n"
     ]
    }
   ],
   "source": [
    "F_fruit= [\"Mango\", \"Banana\"]\n",
    "S_fruit=[\"Pineapple\",\"Grapes\"]\n",
    "combined = F_fruit+S_fruit\n",
    "print(f\"After combined list: {combined}\")"
   ]
  },
  {
   "cell_type": "markdown",
   "id": "76b48e10-f7b5-4b59-8a84-a2791e2c1cdc",
   "metadata": {},
   "source": [
    "# Q14. Repeat the list [\"Hello\"] 3 times"
   ]
  },
  {
   "cell_type": "code",
   "execution_count": 23,
   "id": "bfa683da-d4d6-488d-9ae4-5f3e0b29870c",
   "metadata": {},
   "outputs": [
    {
     "name": "stdout",
     "output_type": "stream",
     "text": [
      "['Hello', 'Hello', 'Hello']\n"
     ]
    }
   ],
   "source": [
    "Greating = [\"Hello\"]*3\n",
    "print(Greating)"
   ]
  },
  {
   "cell_type": "markdown",
   "id": "4e42a027-508b-4c85-b110-fa5546d72c81",
   "metadata": {},
   "source": [
    "# Q15. Create a copy of the list fruits"
   ]
  },
  {
   "cell_type": "code",
   "execution_count": 24,
   "id": "3562efee-e288-46fd-a83c-bb4770ba68d6",
   "metadata": {},
   "outputs": [
    {
     "name": "stdout",
     "output_type": "stream",
     "text": [
      "['Watermelon', 'Orange', 'Mango', 'Banana', 'Apple']\n"
     ]
    }
   ],
   "source": [
    "copied_Fruit = Fruit.copy()\n",
    "print(copied_Fruit)"
   ]
  },
  {
   "cell_type": "markdown",
   "id": "607f4ceb-d7e2-4054-8208-5356432ebd7a",
   "metadata": {},
   "source": [
    "# Q16. Remove all elements from the list"
   ]
  },
  {
   "cell_type": "code",
   "execution_count": 29,
   "id": "33ccdd29-2639-47cc-9580-0e984cded7f6",
   "metadata": {},
   "outputs": [
    {
     "name": "stdout",
     "output_type": "stream",
     "text": [
      "[]\n"
     ]
    }
   ],
   "source": [
    "fruits.clear()\n",
    "print(fruits)"
   ]
  },
  {
   "cell_type": "markdown",
   "id": "0ca5d215-1016-4bae-a742-d87186f79a25",
   "metadata": {},
   "source": [
    "# Q17. From the list of numbers, print only the even numbers."
   ]
  },
  {
   "cell_type": "code",
   "execution_count": 33,
   "id": "38c56a87-3aa5-49bb-9273-c4a9cf57f0c0",
   "metadata": {},
   "outputs": [
    {
     "name": "stdout",
     "output_type": "stream",
     "text": [
      "Even numbers: [2, 4, 6, 8, 10]\n"
     ]
    }
   ],
   "source": [
    "numbers = [1, 2, 3, 4, 5, 6, 7, 8, 9, 10]\n",
    "even_numbers = [num for num in numbers if num % 2 == 0]\n",
    "print(\"Even numbers:\", even_numbers)"
   ]
  },
  {
   "cell_type": "code",
   "execution_count": null,
   "id": "5d8cd68d-0d06-42ca-99b5-0b56b1b623b5",
   "metadata": {},
   "outputs": [],
   "source": []
  },
  {
   "cell_type": "markdown",
   "id": "f45e3bff-cdb6-4ac1-889a-015ccfba2868",
   "metadata": {},
   "source": [
    "# Q18. Remove duplicates from the list."
   ]
  },
  {
   "cell_type": "code",
   "execution_count": 37,
   "id": "5042f401-dcb6-4c2b-806e-f7cea90efcba",
   "metadata": {},
   "outputs": [
    {
     "name": "stdout",
     "output_type": "stream",
     "text": [
      "List without duplicates: [1, 2, 3, 4, 5]\n"
     ]
    }
   ],
   "source": [
    "nums = [1, 2, 2, 3, 4, 4, 5]\n",
    "unique_nums = list(set(nums))\n",
    "print(\"List without duplicates:\", unique_nums)"
   ]
  },
  {
   "cell_type": "markdown",
   "id": "71f78cde-6c90-471d-8a03-2c2925f9ecb5",
   "metadata": {},
   "source": [
    "# Q19. Find the second largest number in a list."
   ]
  },
  {
   "cell_type": "code",
   "execution_count": 40,
   "id": "2c3ea414-1cb5-4c8b-a440-557177adf8e7",
   "metadata": {},
   "outputs": [
    {
     "name": "stdout",
     "output_type": "stream",
     "text": [
      "The 2nd largest number is 67\n"
     ]
    }
   ],
   "source": [
    "numbers = [12, 45, 67, 45, 89, 23]\n",
    "unique_num = list(set(numbers))\n",
    "unique_num.sort()\n",
    "Second_largest = unique_num[-2]\n",
    "print(f\"The 2nd largest number is {Second_largest}\")"
   ]
  },
  {
   "cell_type": "code",
   "execution_count": null,
   "id": "8210f086-6f91-4594-857b-ed8f753a22be",
   "metadata": {},
   "outputs": [],
   "source": []
  }
 ],
 "metadata": {
  "kernelspec": {
   "display_name": "Python 3 (ipykernel)",
   "language": "python",
   "name": "python3"
  },
  "language_info": {
   "codemirror_mode": {
    "name": "ipython",
    "version": 3
   },
   "file_extension": ".py",
   "mimetype": "text/x-python",
   "name": "python",
   "nbconvert_exporter": "python",
   "pygments_lexer": "ipython3",
   "version": "3.12.4"
  }
 },
 "nbformat": 4,
 "nbformat_minor": 5
}
