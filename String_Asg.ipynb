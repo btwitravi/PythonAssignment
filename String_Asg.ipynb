{
 "cells": [
  {
   "cell_type": "markdown",
   "id": "2a680405-812b-46e8-9c16-9637038d7e4f",
   "metadata": {},
   "source": [
    "# Q1. Take a user input string and print its length."
   ]
  },
  {
   "cell_type": "code",
   "execution_count": 1,
   "id": "e948172d-f911-4fa8-a114-cf4ad1821d0b",
   "metadata": {},
   "outputs": [
    {
     "name": "stdin",
     "output_type": "stream",
     "text": [
      "Enter Name:  Hello Wolrd\n"
     ]
    },
    {
     "name": "stdout",
     "output_type": "stream",
     "text": [
      "11\n"
     ]
    }
   ],
   "source": [
    "Name = input(\"Enter Name: \")\n",
    "print(len(Name))"
   ]
  },
  {
   "cell_type": "markdown",
   "id": "d5c82e2a-b7b1-4277-8968-045b6fdcdc08",
   "metadata": {},
   "source": [
    " # Q2. Count the number of vowels in a string."
   ]
  },
  {
   "cell_type": "code",
   "execution_count": 4,
   "id": "1ce3952e-8c99-4653-9b91-955e59f55619",
   "metadata": {},
   "outputs": [
    {
     "name": "stdout",
     "output_type": "stream",
     "text": [
      "Number of Vowel 7\n"
     ]
    }
   ],
   "source": [
    "name = \"Data Science with Python\"\n",
    "vowel = \"AEIOUaeiou\"\n",
    "count = 0\n",
    "for char in name:\n",
    "    # print(char)\n",
    "    if char in vowel:\n",
    "        count +=1\n",
    "\n",
    "print(f\"Number of Vowel {count}\")\n",
    "    "
   ]
  },
  {
   "cell_type": "markdown",
   "id": "76d24b8e-9d83-4ebc-b639-8b90c15cd515",
   "metadata": {},
   "source": [
    " # Q3. Check if a string is a palindrome."
   ]
  },
  {
   "cell_type": "code",
   "execution_count": 11,
   "id": "c49f579d-4dc0-4b30-8d51-0b9dd4883962",
   "metadata": {},
   "outputs": [
    {
     "name": "stdin",
     "output_type": "stream",
     "text": [
      "Enter the Name Please:  hello\n"
     ]
    },
    {
     "name": "stdout",
     "output_type": "stream",
     "text": [
      "Not a Palindrome\n"
     ]
    }
   ],
   "source": [
    "name = input(\"Enter the Name Please: \")\n",
    "# print(name[::-1])\n",
    "if name == name[::-1]:\n",
    "    print(\"Palindrome\")\n",
    "\n",
    "else:\n",
    "    print(\"Not a Palindrome\")\n"
   ]
  },
  {
   "cell_type": "markdown",
   "id": "86e59313-7c76-4462-91e9-3b0d10b87f5d",
   "metadata": {},
   "source": [
    "# Q4. Convert a string to uppercase and lowercase."
   ]
  },
  {
   "cell_type": "code",
   "execution_count": 10,
   "id": "dc33930b-efa0-400e-828e-4d8517f5a52e",
   "metadata": {},
   "outputs": [
    {
     "name": "stdout",
     "output_type": "stream",
     "text": [
      "Upper: PYTHON PROGRAMMING\n",
      "Lower: python programming\n"
     ]
    }
   ],
   "source": [
    "Program = \"Python Programming\"\n",
    "print(f\"Upper: {Program.upper()}\")\n",
    "print(f\"Lower: {Program.lower()}\")"
   ]
  },
  {
   "cell_type": "markdown",
   "id": "a73f4e8c-50fa-4140-b92c-9b8bcde216a5",
   "metadata": {},
   "source": [
    "# Q5. Replace all spaces in a string with hyphens (-)."
   ]
  },
  {
   "cell_type": "code",
   "execution_count": 12,
   "id": "4fc07214-4a56-4bf1-bd5a-3f1500c5c5d4",
   "metadata": {},
   "outputs": [
    {
     "name": "stdout",
     "output_type": "stream",
     "text": [
      "After Modify Text: Learn-Python-Programming\n"
     ]
    }
   ],
   "source": [
    "text = \"Learn Python Programming\"\n",
    "new_txt = text.replace(\" \", \"-\")\n",
    "print(f\"After Modify Text: {new_txt}\")"
   ]
  },
  {
   "cell_type": "markdown",
   "id": "37a30ed4-f9bb-4492-9272-e8cda0684023",
   "metadata": {},
   "source": [
    "# Q6. Count the number of times a character appears in a string."
   ]
  },
  {
   "cell_type": "code",
   "execution_count": 13,
   "id": "14aba6e5-7c25-404b-9d8b-b24171808af0",
   "metadata": {},
   "outputs": [
    {
     "name": "stdout",
     "output_type": "stream",
     "text": [
      "i appears 4 time\n"
     ]
    }
   ],
   "source": [
    "text = \"hihihhitmi\"\n",
    "char = \"i\"\n",
    "count = text.count(char)\n",
    "print(f\"{char} appears {count} time\")"
   ]
  },
  {
   "cell_type": "markdown",
   "id": "59527b8d-9730-49f6-b9a2-e5b6b5854305",
   "metadata": {},
   "source": [
    " # Q7. Split a string into a list using a delimiter."
   ]
  },
  {
   "cell_type": "code",
   "execution_count": 15,
   "id": "44ccb516-99c1-44b1-b97e-31c327686d57",
   "metadata": {},
   "outputs": [
    {
     "name": "stdout",
     "output_type": "stream",
     "text": [
      "Fruit List: ['Mango', 'Banana', 'Apple', 'Grapes']\n"
     ]
    }
   ],
   "source": [
    "fruit = \"Mango,Banana,Apple,Grapes\"\n",
    "print(f\"Fruit List: {fruit.split(\",\")}\") \n"
   ]
  },
  {
   "cell_type": "markdown",
   "id": "4d9df4cf-9a68-4b3a-b233-32095152e73d",
   "metadata": {},
   "source": [
    "# Q8. Join a list of words into a single string using space"
   ]
  },
  {
   "cell_type": "code",
   "execution_count": 17,
   "id": "4a02d5f5-a1f6-4d69-bbf5-8cbd0f1b2cbb",
   "metadata": {},
   "outputs": [
    {
     "name": "stdout",
     "output_type": "stream",
     "text": [
      "Sentence: Data Science with Python\n"
     ]
    }
   ],
   "source": [
    "Course = [\"Data\", \"Science\", \"with\", \"Python\"]\n",
    "print(f\"Sentence: {\" \".join(Course)}\")\n"
   ]
  },
  {
   "cell_type": "markdown",
   "id": "8bec4c53-769d-4e2b-89f3-15796be49e65",
   "metadata": {},
   "source": [
    "# Q9. Check whether a string contains only alphabets."
   ]
  },
  {
   "cell_type": "code",
   "execution_count": 22,
   "id": "9ef0625b-d00a-45d3-8b14-8f09a0008ff0",
   "metadata": {},
   "outputs": [
    {
     "name": "stdin",
     "output_type": "stream",
     "text": [
      "Enter the Name:  Heloo21\n"
     ]
    },
    {
     "name": "stdout",
     "output_type": "stream",
     "text": [
      "String Contains non-alphabet\n"
     ]
    }
   ],
   "source": [
    "name = input(\"Enter the Name: \")\n",
    "if name.isalpha():\n",
    "    print(\"String Contains Only alphabet\")\n",
    "\n",
    "else:\n",
    "    print(\"String Contains non-alphabet\")"
   ]
  },
  {
   "cell_type": "markdown",
   "id": "7b75aabd-8574-482e-852a-f55425a9ae43",
   "metadata": {},
   "source": [
    "# Q10. Check if a string starts and ends with the same character."
   ]
  },
  {
   "cell_type": "code",
   "execution_count": 24,
   "id": "914ef6d7-d9ed-4af4-ab11-6a1860441f71",
   "metadata": {},
   "outputs": [
    {
     "name": "stdin",
     "output_type": "stream",
     "text": [
      "Enter the String:  Learn Programming\n"
     ]
    },
    {
     "name": "stdout",
     "output_type": "stream",
     "text": [
      "String doesn't starts and ends with the same character.\n"
     ]
    }
   ],
   "source": [
    "String = input(\"Enter the String: \")\n",
    "if String[0]==String[-1]:\n",
    "    print(\"String starts and ends with the same character.\")\n",
    "\n",
    "else:\n",
    "    print(\"String doesn't starts and ends with the same character.\")"
   ]
  },
  {
   "cell_type": "markdown",
   "id": "133d1aad-dc93-491d-9c54-b9dbb0fce466",
   "metadata": {},
   "source": [
    "# Q11. Swap the case of all characters in a string."
   ]
  },
  {
   "cell_type": "code",
   "execution_count": 25,
   "id": "dfbe5cc5-5a6e-4666-af60-0c79c7920900",
   "metadata": {},
   "outputs": [
    {
     "name": "stdin",
     "output_type": "stream",
     "text": [
      "Enter the Name:  learn python \n"
     ]
    },
    {
     "name": "stdout",
     "output_type": "stream",
     "text": [
      "Swapped Case String: LEARN PYTHON \n"
     ]
    }
   ],
   "source": [
    "Name = input(\"Enter the Name: \")\n",
    "print(f\"Swapped Case String: {Name.swapcase()}\")"
   ]
  },
  {
   "cell_type": "markdown",
   "id": "58571c10-4513-4b45-a2ca-3484a959db6b",
   "metadata": {},
   "source": [
    " # Q12. Reverse the words in a sentence."
   ]
  },
  {
   "cell_type": "code",
   "execution_count": 34,
   "id": "5674c1d6-1ba0-4039-b668-fd01cce4f416",
   "metadata": {},
   "outputs": [
    {
     "name": "stdout",
     "output_type": "stream",
     "text": [
      "Reversed sentence: Program Python Learn\n"
     ]
    }
   ],
   "source": [
    "sentence = \"Learn Python Program\"\n",
    "words = sentence.split()\n",
    "reversed_sentence = \" \".join(reversed(words))\n",
    "print(\"Reversed sentence:\", reversed_sentence)"
   ]
  },
  {
   "cell_type": "markdown",
   "id": "7093bf8a-965c-4430-a15c-39e95fe925dd",
   "metadata": {},
   "source": [
    "# Q13. Find the longest word in a sentence."
   ]
  },
  {
   "cell_type": "code",
   "execution_count": 35,
   "id": "8a16cff3-f56c-41ab-8ab9-3d342533b3b4",
   "metadata": {},
   "outputs": [
    {
     "name": "stdin",
     "output_type": "stream",
     "text": [
      "Enter the Sentence:  Learn Python Programming\n"
     ]
    },
    {
     "name": "stdout",
     "output_type": "stream",
     "text": [
      "Logest Words is: Programming\n"
     ]
    }
   ],
   "source": [
    "name = input(\"Enter the Sentence: \")\n",
    "words = name.split()\n",
    "longest_sen = max(words, key = len)\n",
    "print(f\"Logest Words is: {longest_sen}\")"
   ]
  },
  {
   "cell_type": "markdown",
   "id": "e8f25a89-710b-4caa-a618-6bcb01a0c217",
   "metadata": {},
   "source": [
    "# Q14. Count the number of uppercase and lowercase characters."
   ]
  },
  {
   "cell_type": "code",
   "execution_count": 41,
   "id": "9a57d1d0-cef5-4b0f-acff-9eeab5351ef6",
   "metadata": {},
   "outputs": [
    {
     "name": "stdin",
     "output_type": "stream",
     "text": [
      "Enter the Sentence Please Learn python with Bro\n"
     ]
    },
    {
     "name": "stdout",
     "output_type": "stream",
     "text": [
      "Upper Character 2\n",
      "Lower Character 16\n"
     ]
    }
   ],
   "source": [
    "sen = input(\"Enter the Sentence Please\")\n",
    "uper = sum(1 for char in sen if char.isupper())\n",
    "lower = sum(1 for char in sen if char.islower())\n",
    "print(f\"Upper Character {uper}\")\n",
    "print(f\"Lower Character {lower}\")\n"
   ]
  },
  {
   "cell_type": "code",
   "execution_count": null,
   "id": "305f11cc-0ab8-4927-b516-d19d49d65d81",
   "metadata": {},
   "outputs": [],
   "source": []
  }
 ],
 "metadata": {
  "kernelspec": {
   "display_name": "Python 3 (ipykernel)",
   "language": "python",
   "name": "python3"
  },
  "language_info": {
   "codemirror_mode": {
    "name": "ipython",
    "version": 3
   },
   "file_extension": ".py",
   "mimetype": "text/x-python",
   "name": "python",
   "nbconvert_exporter": "python",
   "pygments_lexer": "ipython3",
   "version": "3.12.4"
  }
 },
 "nbformat": 4,
 "nbformat_minor": 5
}
