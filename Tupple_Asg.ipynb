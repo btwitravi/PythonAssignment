{
 "cells": [
  {
   "cell_type": "markdown",
   "id": "ccf2c68d-bfd9-47db-8108-5e221a194eea",
   "metadata": {},
   "source": [
    "# Tupple Assignment"
   ]
  },
  {
   "cell_type": "markdown",
   "id": "bbed1bb0-6638-4cec-a1be-39718cf956d2",
   "metadata": {},
   "source": [
    "# Q1: Create a tuple named fruits with the following values: \"apple\", \"banana\", \"mango\", \"orange\""
   ]
  },
  {
   "cell_type": "code",
   "execution_count": 1,
   "id": "7975cf30-1a62-4bdb-b607-8f6f720cdfa9",
   "metadata": {},
   "outputs": [
    {
     "name": "stdout",
     "output_type": "stream",
     "text": [
      "('Apple', 'Banana', 'Mango', 'Orange')\n"
     ]
    }
   ],
   "source": [
    "fruits = (\"Apple\", \"Banana\", \"Mango\", \"Orange\")\n",
    "print(fruits)"
   ]
  },
  {
   "cell_type": "markdown",
   "id": "da865138-f98d-4b76-89f8-c2b3cdf86f44",
   "metadata": {},
   "source": [
    "# Q2: Access the second item from the fruits tuple."
   ]
  },
  {
   "cell_type": "code",
   "execution_count": 2,
   "id": "cb3ef39e-ef0e-4650-a0a5-a4fa4391a719",
   "metadata": {},
   "outputs": [
    {
     "name": "stdout",
     "output_type": "stream",
     "text": [
      "Banana\n"
     ]
    }
   ],
   "source": [
    "fruits = (\"Apple\", \"Banana\", \"Mango\", \"Orange\")\n",
    "print(fruits[1])"
   ]
  },
  {
   "cell_type": "markdown",
   "id": "100985cd-2a75-4974-928a-fc836062c315",
   "metadata": {},
   "source": [
    "# Q3: Print the last two items from the tuple."
   ]
  },
  {
   "cell_type": "code",
   "execution_count": 3,
   "id": "6fc314bd-e953-4378-9819-ed6066d653fa",
   "metadata": {},
   "outputs": [
    {
     "name": "stdout",
     "output_type": "stream",
     "text": [
      "('Mango', 'Orange')\n"
     ]
    }
   ],
   "source": [
    "fruits = (\"Apple\", \"Banana\", \"Mango\", \"Orange\")\n",
    "print(fruits[-2:])"
   ]
  },
  {
   "cell_type": "markdown",
   "id": "cfd3707b-adce-447a-bbf7-9fee0b3044b3",
   "metadata": {},
   "source": [
    "<!-- Q4: Check if \"apple\" is in the tuple -->"
   ]
  },
  {
   "cell_type": "markdown",
   "id": "bf7199f4-b2a0-4b1d-9642-3de163f9e7c1",
   "metadata": {},
   "source": [
    "# Q4: Check if \"apple\" is in the tuple"
   ]
  },
  {
   "cell_type": "code",
   "execution_count": 5,
   "id": "5a4fcf4f-0d13-4b31-a393-048327986c7d",
   "metadata": {},
   "outputs": [
    {
     "name": "stdout",
     "output_type": "stream",
     "text": [
      "'Apple' is exist in Tuple\n"
     ]
    }
   ],
   "source": [
    "fruits = (\"Apple\", \"Banana\", \"Mango\", \"Orange\")\n",
    "if \"Apple\" in fruits:\n",
    "    print(\"'Apple' is exist in Tuple\")"
   ]
  },
  {
   "cell_type": "markdown",
   "id": "81688941-e80c-4d70-ae78-07310f720dd9",
   "metadata": {},
   "source": [
    "# Q5: Print the length of the tuple."
   ]
  },
  {
   "cell_type": "code",
   "execution_count": 6,
   "id": "7bb335cf-dd36-4b9e-8025-9479178e113b",
   "metadata": {},
   "outputs": [
    {
     "name": "stdout",
     "output_type": "stream",
     "text": [
      "4\n"
     ]
    }
   ],
   "source": [
    "print(len(fruits))"
   ]
  },
  {
   "cell_type": "markdown",
   "id": "1d2323de-6ce7-4556-843d-327627c83996",
   "metadata": {},
   "source": [
    "# Q6: Try changing the second item of the fruits tuple to \"grape\" and observe what happens."
   ]
  },
  {
   "cell_type": "code",
   "execution_count": 8,
   "id": "e5e1aedf-72ed-49bb-b6f6-32522b49fb85",
   "metadata": {},
   "outputs": [
    {
     "ename": "TypeError",
     "evalue": "'tuple' object does not support item assignment",
     "output_type": "error",
     "traceback": [
      "\u001b[1;31m---------------------------------------------------------------------------\u001b[0m",
      "\u001b[1;31mTypeError\u001b[0m                                 Traceback (most recent call last)",
      "Cell \u001b[1;32mIn[8], line 1\u001b[0m\n\u001b[1;32m----> 1\u001b[0m fruits[\u001b[38;5;241m1\u001b[39m] \u001b[38;5;241m=\u001b[39m \u001b[38;5;124m\"\u001b[39m\u001b[38;5;124mGrape\u001b[39m\u001b[38;5;124m\"\u001b[39m\n\u001b[0;32m      2\u001b[0m \u001b[38;5;28mprint\u001b[39m(fruits)\n",
      "\u001b[1;31mTypeError\u001b[0m: 'tuple' object does not support item assignment"
     ]
    }
   ],
   "source": [
    "fruits[1] = \"Grape\"\n",
    "print(fruits)"
   ]
  },
  {
   "cell_type": "markdown",
   "id": "0d0c1dcb-5e44-4cd9-b6cd-eeabe8060d16",
   "metadata": {},
   "source": [
    "## We know that tupple is immutable and we can't change any items"
   ]
  },
  {
   "cell_type": "markdown",
   "id": "37b687ed-c9c8-4023-8a91-bb9912476e3b",
   "metadata": {},
   "source": [
    "# Q7: Concatenate two tuples: a = (1, 2, 3) and b = (4, 5, 6)"
   ]
  },
  {
   "cell_type": "code",
   "execution_count": 11,
   "id": "169b0e1a-9e21-4d90-a9e6-0f93ecd2d0e5",
   "metadata": {},
   "outputs": [
    {
     "name": "stdout",
     "output_type": "stream",
     "text": [
      " New Tuple: (1, 2, 3, 4, 5, 6)\n"
     ]
    }
   ],
   "source": [
    "a = (1, 2, 3)\n",
    "b = (4, 5, 6)\n",
    "print(f\" New Tuple: {a+b}\")"
   ]
  },
  {
   "cell_type": "markdown",
   "id": "95ecbd35-72fe-4a2a-b393-3d700ad42a12",
   "metadata": {},
   "source": [
    "# Q8: From the tuple nums = (1, 2, 3, 2, 4, 2), count how many times 2 occurs and find its first index."
   ]
  },
  {
   "cell_type": "code",
   "execution_count": 12,
   "id": "c112f3d6-b56b-49b4-b27d-2123ac12a94e",
   "metadata": {},
   "outputs": [
    {
     "name": "stdout",
     "output_type": "stream",
     "text": [
      "Count: 3\n",
      "Index: 1\n"
     ]
    }
   ],
   "source": [
    "num = (1, 2, 3, 2, 4, 2)\n",
    "print(f\"Count: {num.count(2)}\")\n",
    "print(f\"Index: {num.index(2)}\")"
   ]
  },
  {
   "cell_type": "markdown",
   "id": "51a606a6-3ef5-4abb-9df5-2fa1b6bfbeda",
   "metadata": {},
   "source": [
    "# Q9: Convert the list my_list = [10, 20, 30, 40] to a tuple."
   ]
  },
  {
   "cell_type": "code",
   "execution_count": 15,
   "id": "02656b84-9242-4981-bf46-bca73b5005ac",
   "metadata": {},
   "outputs": [
    {
     "name": "stdout",
     "output_type": "stream",
     "text": [
      "(10, 20, 30, 40)\n",
      "<class 'tuple'>\n"
     ]
    }
   ],
   "source": [
    "my_list = [10, 20, 30, 40]\n",
    "my_tuple = tuple(my_list)\n",
    "print(my_tuple)\n",
    "print(type(my_tuple))"
   ]
  },
  {
   "cell_type": "markdown",
   "id": "2822929e-ce55-4e23-a9e0-73b1b13eafc2",
   "metadata": {},
   "source": [
    "# Q10: Given the tuple nested = (\"a\", \"b\", (\"c\", \"d\")), access the element \"d\"."
   ]
  },
  {
   "cell_type": "code",
   "execution_count": 16,
   "id": "477afb5b-b0e2-40fc-964f-a30c187db76b",
   "metadata": {},
   "outputs": [
    {
     "name": "stdout",
     "output_type": "stream",
     "text": [
      "d\n"
     ]
    }
   ],
   "source": [
    "tup = (\"a\", \"b\", (\"c\", \"d\"))\n",
    "print(tup[2][1])"
   ]
  },
  {
   "cell_type": "markdown",
   "id": "2685484d-b70c-446a-8bd2-7fc665a912d2",
   "metadata": {},
   "source": [
    "# Q11: Iterate through the tuple colors = (\"red\", \"green\", \"blue\") and print each color."
   ]
  },
  {
   "cell_type": "code",
   "execution_count": 17,
   "id": "f1eac7ed-4cc1-453b-ba02-585fe1c2e13c",
   "metadata": {},
   "outputs": [
    {
     "name": "stdout",
     "output_type": "stream",
     "text": [
      "red\n",
      "green\n",
      "blue\n"
     ]
    }
   ],
   "source": [
    "colors = (\"red\", \"green\", \"blue\")\n",
    "for color in colors:\n",
    "    print(color)\n"
   ]
  },
  {
   "cell_type": "code",
   "execution_count": null,
   "id": "275afa23-efef-4b1e-96fc-36955158be74",
   "metadata": {},
   "outputs": [],
   "source": []
  }
 ],
 "metadata": {
  "kernelspec": {
   "display_name": "Python 3 (ipykernel)",
   "language": "python",
   "name": "python3"
  },
  "language_info": {
   "codemirror_mode": {
    "name": "ipython",
    "version": 3
   },
   "file_extension": ".py",
   "mimetype": "text/x-python",
   "name": "python",
   "nbconvert_exporter": "python",
   "pygments_lexer": "ipython3",
   "version": "3.12.4"
  }
 },
 "nbformat": 4,
 "nbformat_minor": 5
}
